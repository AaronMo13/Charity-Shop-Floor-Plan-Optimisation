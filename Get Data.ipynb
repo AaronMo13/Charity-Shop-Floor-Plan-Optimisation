{
 "cells": [
  {
   "cell_type": "markdown",
   "id": "fa491504-3802-4f07-a34a-c83cd0ca65bc",
   "metadata": {},
   "source": [
    "# Get Data\n",
    "Here we firstly convert the data from a notepad file into an excel spreadsheet. This is because the data was originally stored on the company's own software and not possible to convert directly into a spreadsheet."
   ]
  },
  {
   "cell_type": "code",
   "execution_count": 2,
   "id": "a54cad0b-699e-4dd7-b751-a7318db65de3",
   "metadata": {},
   "outputs": [],
   "source": [
    "import pandas as pd\n",
    "with open('space management data.txt') as file: #txt file containing space management data \n",
    "    final_lines = []\n",
    "    for line in file.readlines(): #loop through each line in txt file\n",
    "        line = line.rstrip('\\n') #get rid of new line characters at end of each line\n",
    "        if 'DATEHERE' in line: #DATEHERE was put into the txt file design to be a separator to identify a new week of data\n",
    "            date = line.split(' ')[1] #extract the date\n",
    "        elif line == 'c': #c, nc, big and t were again put into the txt file to be identifiers like DATEHERE, to be able to classify the item into \n",
    "            category = 'clothing' #a category, c for clothing, nc for non clothing, big for bought in goods and t identifying the row of the table is for a total\n",
    "        elif line == 'nc':\n",
    "            category = 'non clothing'\n",
    "        elif line == 'big':\n",
    "            category = 'big'\n",
    "        elif line == 't': \n",
    "            category = 'total'\n",
    "        else:\n",
    "            entries = line.split(' ') #the delimeter for the txt file is a space \n",
    "            new_line = []\n",
    "            sub_category = '' #due to the way the data is, the words to name the sub category are all at the start, then numbers after this are for the other columns\n",
    "            for entry in entries:\n",
    "                if set(entry).intersection('0123456789'): #if the entry is a number then we know there are no more words to come, so we have the final sub category name\n",
    "                    if new_line == []: #if date, category and sub category haven't already been added\n",
    "                        new_line.append(date) #add date for the item\n",
    "                        new_line.append(category) #add the category for the item\n",
    "                        new_line.append(sub_category.lower()) #add the sub category for the item\n",
    "                        new_line.append(float(entry)) #add the number for the item\n",
    "                    else:\n",
    "                        new_line.append(float(entry)) #just add the number for the item is date, category and sub category have already been added\n",
    "                else:\n",
    "                    if sub_category == '': #here we combine all the inital words together to get the sub category name (because these are also separated by spaces)\n",
    "                        sub_category += entry\n",
    "                    else:\n",
    "                        sub_category = sub_category + ' ' + entry\n",
    "            final_lines.append(new_line) #add the new row to the final list of rows to be converted to a dataframe\n",
    "\n",
    "#the columns for our dataframe\n",
    "fields_sm = ['date week commencing', 'category', 'sub category', 'Dept £', 'Dept %', 'No. items sold', 'Average selling price £', 'No. of bays', '% of space', 'Average sale per bay £']\n",
    "df_sm = pd.DataFrame(final_lines, columns =fields_sm) #convert the list and column names into a dataframe"
   ]
  },
  {
   "cell_type": "code",
   "execution_count": 4,
   "id": "f5db85e2-3ea1-42dd-8b40-5cafd060234e",
   "metadata": {},
   "outputs": [],
   "source": [
    "#convert dataframe into excel files\n",
    "df_sm.to_excel(\"charity shop data initial.xlsx\", index = False, sheet_name = 'Space Management')"
   ]
  }
 ],
 "metadata": {
  "kernelspec": {
   "display_name": "Python 3 (ipykernel)",
   "language": "python",
   "name": "python3"
  },
  "language_info": {
   "codemirror_mode": {
    "name": "ipython",
    "version": 3
   },
   "file_extension": ".py",
   "mimetype": "text/x-python",
   "name": "python",
   "nbconvert_exporter": "python",
   "pygments_lexer": "ipython3",
   "version": "3.12.7"
  }
 },
 "nbformat": 4,
 "nbformat_minor": 5
}
