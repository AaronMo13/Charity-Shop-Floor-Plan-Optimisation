{
 "cells": [
  {
   "cell_type": "markdown",
   "id": "acd82273-b843-4391-aaa5-dadeef2afc11",
   "metadata": {},
   "source": [
    "# Data Checks\n",
    "Here we will do some initial data checks to get a general overview and ensure the data appears as expected to enable smooth analysis."
   ]
  },
  {
   "cell_type": "code",
   "execution_count": 3,
   "id": "55567077-901a-48fb-89eb-7928dc6d26c2",
   "metadata": {},
   "outputs": [],
   "source": [
    "import pandas as pd\n",
    "df_sm = pd.read_excel(\"charity shop data initial.xlsx\", sheet_name = \"Space Management\", index_col = None)"
   ]
  },
  {
   "cell_type": "code",
   "execution_count": 5,
   "id": "d9af15e3-b5ce-4f54-9fdf-f2194f45ba76",
   "metadata": {},
   "outputs": [
    {
     "data": {
      "text/plain": [
       "(5236, 10)"
      ]
     },
     "execution_count": 5,
     "metadata": {},
     "output_type": "execute_result"
    }
   ],
   "source": [
    "df_sm.shape"
   ]
  },
  {
   "cell_type": "markdown",
   "id": "05252121-c608-4be5-88f1-f1acd7e7d931",
   "metadata": {},
   "source": [
    "We see the dataframe being the correct size. We have 16 weeks where there are 31 sub categories (due to the aditional EOL Clothing being introduced in the financial year of 2025), and the other remaining 158 weeks have 30 sub categories as expected. Therefore, (16x31) + (158x30) = 5236 as is seen, and the 10 columns is correct. "
   ]
  },
  {
   "cell_type": "code",
   "execution_count": 8,
   "id": "e9a2f242-1852-4b61-b2ee-0c17e0f95f30",
   "metadata": {},
   "outputs": [
    {
     "name": "stdout",
     "output_type": "stream",
     "text": [
      "<class 'pandas.core.frame.DataFrame'>\n",
      "RangeIndex: 5236 entries, 0 to 5235\n",
      "Data columns (total 10 columns):\n",
      " #   Column                   Non-Null Count  Dtype  \n",
      "---  ------                   --------------  -----  \n",
      " 0   date week commencing     5236 non-null   object \n",
      " 1   category                 5236 non-null   object \n",
      " 2   sub category             5236 non-null   object \n",
      " 3   Dept £                   5236 non-null   float64\n",
      " 4   Dept %                   5236 non-null   float64\n",
      " 5   No. items sold           5236 non-null   int64  \n",
      " 6   Average selling price £  5236 non-null   float64\n",
      " 7   No. of bays              5236 non-null   float64\n",
      " 8   % of space               5236 non-null   float64\n",
      " 9   Average sale per bay £   5236 non-null   float64\n",
      "dtypes: float64(6), int64(1), object(3)\n",
      "memory usage: 409.2+ KB\n"
     ]
    }
   ],
   "source": [
    "df_sm.info()"
   ]
  },
  {
   "cell_type": "markdown",
   "id": "bcc81dec-9dbd-495b-aa6c-fdbb9355a127",
   "metadata": {},
   "source": [
    "We have an initial look at the data and the data types for each column, we see there are no null values and confirm this next."
   ]
  },
  {
   "cell_type": "code",
   "execution_count": 11,
   "id": "ef909108-1097-4b02-bec3-5b69f87636d4",
   "metadata": {},
   "outputs": [
    {
     "name": "stdout",
     "output_type": "stream",
     "text": [
      "Empty DataFrame\n",
      "Columns: [date week commencing, category, sub category, Dept £, Dept %, No. items sold, Average selling price £, No. of bays, % of space, Average sale per bay £]\n",
      "Index: []\n"
     ]
    }
   ],
   "source": [
    "null_mask = df_sm.isnull().any(axis=1)\n",
    "null_rows = df_sm[null_mask]\n",
    "\n",
    "print(null_rows)"
   ]
  },
  {
   "cell_type": "markdown",
   "id": "3cd5a399-e0c7-4d63-85f1-9a8a6d217cd5",
   "metadata": {},
   "source": [
    "As is shown above we have no null values in the dataset so we do not need to fix anything there."
   ]
  },
  {
   "cell_type": "code",
   "execution_count": 14,
   "id": "ac0c89bb-0243-4777-93d8-8ef177140638",
   "metadata": {},
   "outputs": [
    {
     "data": {
      "text/html": [
       "<div>\n",
       "<style scoped>\n",
       "    .dataframe tbody tr th:only-of-type {\n",
       "        vertical-align: middle;\n",
       "    }\n",
       "\n",
       "    .dataframe tbody tr th {\n",
       "        vertical-align: top;\n",
       "    }\n",
       "\n",
       "    .dataframe thead th {\n",
       "        text-align: right;\n",
       "    }\n",
       "</style>\n",
       "<table border=\"1\" class=\"dataframe\">\n",
       "  <thead>\n",
       "    <tr style=\"text-align: right;\">\n",
       "      <th></th>\n",
       "      <th>Dept £</th>\n",
       "      <th>Dept %</th>\n",
       "      <th>No. items sold</th>\n",
       "      <th>Average selling price £</th>\n",
       "      <th>No. of bays</th>\n",
       "      <th>% of space</th>\n",
       "      <th>Average sale per bay £</th>\n",
       "    </tr>\n",
       "  </thead>\n",
       "  <tbody>\n",
       "    <tr>\n",
       "      <th>count</th>\n",
       "      <td>5236.000000</td>\n",
       "      <td>5236.000000</td>\n",
       "      <td>5236.000000</td>\n",
       "      <td>5236.000000</td>\n",
       "      <td>5236.000000</td>\n",
       "      <td>5236.000000</td>\n",
       "      <td>5236.000000</td>\n",
       "    </tr>\n",
       "    <tr>\n",
       "      <th>mean</th>\n",
       "      <td>478.140521</td>\n",
       "      <td>12.716826</td>\n",
       "      <td>143.036096</td>\n",
       "      <td>4.575407</td>\n",
       "      <td>3.040393</td>\n",
       "      <td>12.790649</td>\n",
       "      <td>133.865376</td>\n",
       "    </tr>\n",
       "    <tr>\n",
       "      <th>std</th>\n",
       "      <td>927.088922</td>\n",
       "      <td>24.447392</td>\n",
       "      <td>281.151248</td>\n",
       "      <td>3.510331</td>\n",
       "      <td>5.832331</td>\n",
       "      <td>24.431132</td>\n",
       "      <td>88.766878</td>\n",
       "    </tr>\n",
       "    <tr>\n",
       "      <th>min</th>\n",
       "      <td>-14.950000</td>\n",
       "      <td>-0.290000</td>\n",
       "      <td>-1.000000</td>\n",
       "      <td>-2.500000</td>\n",
       "      <td>0.000000</td>\n",
       "      <td>0.000000</td>\n",
       "      <td>-29.900000</td>\n",
       "    </tr>\n",
       "    <tr>\n",
       "      <th>25%</th>\n",
       "      <td>52.750000</td>\n",
       "      <td>1.417500</td>\n",
       "      <td>8.000000</td>\n",
       "      <td>2.040000</td>\n",
       "      <td>0.500000</td>\n",
       "      <td>2.080000</td>\n",
       "      <td>79.097500</td>\n",
       "    </tr>\n",
       "    <tr>\n",
       "      <th>50%</th>\n",
       "      <td>116.515000</td>\n",
       "      <td>3.240000</td>\n",
       "      <td>27.000000</td>\n",
       "      <td>3.620000</td>\n",
       "      <td>1.000000</td>\n",
       "      <td>4.080000</td>\n",
       "      <td>137.405000</td>\n",
       "    </tr>\n",
       "    <tr>\n",
       "      <th>75%</th>\n",
       "      <td>307.690000</td>\n",
       "      <td>8.320000</td>\n",
       "      <td>117.000000</td>\n",
       "      <td>6.692500</td>\n",
       "      <td>2.000000</td>\n",
       "      <td>8.330000</td>\n",
       "      <td>181.000000</td>\n",
       "    </tr>\n",
       "    <tr>\n",
       "      <th>max</th>\n",
       "      <td>6227.520000</td>\n",
       "      <td>100.000000</td>\n",
       "      <td>2063.000000</td>\n",
       "      <td>30.000000</td>\n",
       "      <td>41.000000</td>\n",
       "      <td>100.000000</td>\n",
       "      <td>942.250000</td>\n",
       "    </tr>\n",
       "  </tbody>\n",
       "</table>\n",
       "</div>"
      ],
      "text/plain": [
       "            Dept £       Dept %  No. items sold  Average selling price £  \\\n",
       "count  5236.000000  5236.000000     5236.000000              5236.000000   \n",
       "mean    478.140521    12.716826      143.036096                 4.575407   \n",
       "std     927.088922    24.447392      281.151248                 3.510331   \n",
       "min     -14.950000    -0.290000       -1.000000                -2.500000   \n",
       "25%      52.750000     1.417500        8.000000                 2.040000   \n",
       "50%     116.515000     3.240000       27.000000                 3.620000   \n",
       "75%     307.690000     8.320000      117.000000                 6.692500   \n",
       "max    6227.520000   100.000000     2063.000000                30.000000   \n",
       "\n",
       "       No. of bays   % of space  Average sale per bay £  \n",
       "count  5236.000000  5236.000000             5236.000000  \n",
       "mean      3.040393    12.790649              133.865376  \n",
       "std       5.832331    24.431132               88.766878  \n",
       "min       0.000000     0.000000              -29.900000  \n",
       "25%       0.500000     2.080000               79.097500  \n",
       "50%       1.000000     4.080000              137.405000  \n",
       "75%       2.000000     8.330000              181.000000  \n",
       "max      41.000000   100.000000              942.250000  "
      ]
     },
     "execution_count": 14,
     "metadata": {},
     "output_type": "execute_result"
    }
   ],
   "source": [
    "df_sm.describe()"
   ]
  },
  {
   "cell_type": "markdown",
   "id": "1d953125-df14-4591-960d-0a85519528c8",
   "metadata": {},
   "source": [
    "Now we have a quick look at the dataset using the describe function to get an overall feel for it."
   ]
  },
  {
   "cell_type": "code",
   "execution_count": 17,
   "id": "352359ff-5740-4294-8511-ee7abf2eec33",
   "metadata": {},
   "outputs": [
    {
     "data": {
      "text/plain": [
       "date week commencing        174\n",
       "category                      4\n",
       "sub category                 31\n",
       "Dept £                     3627\n",
       "Dept %                     1723\n",
       "No. items sold              759\n",
       "Average selling price £    1104\n",
       "No. of bays                  49\n",
       "% of space                  323\n",
       "Average sale per bay £     3458\n",
       "dtype: int64"
      ]
     },
     "execution_count": 17,
     "metadata": {},
     "output_type": "execute_result"
    }
   ],
   "source": [
    "df_sm.nunique()"
   ]
  },
  {
   "cell_type": "markdown",
   "id": "29bcbeb1-0120-4bed-987c-da051de19c8d",
   "metadata": {},
   "source": [
    "Next we look at unique item counts. We see 174 different date values which is correct as we have 174 weeks' worth of data. We also see 4 categories and 31 sub categories as expected."
   ]
  },
  {
   "cell_type": "code",
   "execution_count": 20,
   "id": "e17124d0-1959-44c7-837b-711559b04fbc",
   "metadata": {},
   "outputs": [
    {
     "data": {
      "text/plain": [
       "category\n",
       "clothing        2452\n",
       "non clothing    1392\n",
       "total            870\n",
       "big              522\n",
       "Name: count, dtype: int64"
      ]
     },
     "execution_count": 20,
     "metadata": {},
     "output_type": "execute_result"
    }
   ],
   "source": [
    "df_sm['category'].value_counts()"
   ]
  },
  {
   "cell_type": "markdown",
   "id": "2f938f6f-01e3-4438-9569-6df187a38a38",
   "metadata": {},
   "source": [
    "We can confirm the individual category value counts are correct. There should be 3 big values each week, so 3x174 = 522, there should be 5 total values each week, so 5x174 = 870, and for non clothing there should be 8 values each week, so 8x174 = 1392. Then for clothing we have the rest of the values, as we already confirmed earlier that the total count is correct."
   ]
  },
  {
   "cell_type": "code",
   "execution_count": 23,
   "id": "a902ddc2-78a7-4cae-8fb4-600f49c4d377",
   "metadata": {},
   "outputs": [
    {
     "data": {
      "text/plain": [
       "sub category\n",
       "ladies tops                     174\n",
       "home                            174\n",
       "total for big                   174\n",
       "big gifts                       174\n",
       "big cards wrap                  174\n",
       "big xmas cards                  174\n",
       "donated total                   174\n",
       "total for non clothing          174\n",
       "non clothing promotion          174\n",
       "kids non clothing               174\n",
       "furniture                       174\n",
       "electrical                      174\n",
       "media                           174\n",
       "books                           174\n",
       "jewellery                       174\n",
       "total for clothing              174\n",
       "ladies knitwear                 174\n",
       "clothing promotion              174\n",
       "kids clothing                   174\n",
       "mens coats jackets and suits    174\n",
       "mens bottoms                    174\n",
       "mens shoes accs                 174\n",
       "mens tops                       174\n",
       "ladies accs                     174\n",
       "ladies shoes                    174\n",
       "ladies coats                    174\n",
       "ladies dresses                  174\n",
       "ladies trousers                 174\n",
       "ladies skirts                   174\n",
       "donated and big total           174\n",
       "eol clothing                     16\n",
       "Name: count, dtype: int64"
      ]
     },
     "execution_count": 23,
     "metadata": {},
     "output_type": "execute_result"
    }
   ],
   "source": [
    "df_sm['sub category'].value_counts()"
   ]
  },
  {
   "cell_type": "markdown",
   "id": "0008de87-5133-4037-8fe0-949148eea7db",
   "metadata": {},
   "source": [
    "Now we look at the sub category counts, we see all the sub categories have a count of 174 apart from eol clothing with 16 as expected.\n",
    "Finally, we confirm that all the dates are correct, there should be 174 weeks all separated by exactly a week, and we see this is correct below."
   ]
  },
  {
   "cell_type": "code",
   "execution_count": 27,
   "id": "2ab4ff91-af8e-4e52-b546-d0c1baec602c",
   "metadata": {},
   "outputs": [],
   "source": [
    "sm_dates = df_sm['date week commencing'].unique() #the dates in the dataframe\n",
    "from datetime import datetime, timedelta\n",
    "\n",
    "#end point dates\n",
    "ed = datetime(2022, 3, 27)\n",
    "sd = datetime(2025, 7, 20)\n",
    "\n",
    "dates = []\n",
    "\n",
    "#create list of expected dates\n",
    "while sd >= ed:\n",
    "    dates.append(sd.strftime(\"%d/%m/%Y\"))\n",
    "    sd -= timedelta(days=7)"
   ]
  },
  {
   "cell_type": "code",
   "execution_count": 29,
   "id": "397305b5-3856-4c7f-abf3-e07ae68d7ef7",
   "metadata": {},
   "outputs": [],
   "source": [
    "#check whether the expected dates are the same as the dataframe dates\n",
    "check_dates_sm = list(sm_dates == dates)\n",
    "count = 0\n",
    "for i in check_dates_sm:\n",
    "    if i != True:\n",
    "        print(count)\n",
    "    count += 1"
   ]
  },
  {
   "cell_type": "code",
   "execution_count": 31,
   "id": "3898afb3-3135-47a0-9dba-9c6be1effbbd",
   "metadata": {},
   "outputs": [
    {
     "data": {
      "text/html": [
       "<div>\n",
       "<style scoped>\n",
       "    .dataframe tbody tr th:only-of-type {\n",
       "        vertical-align: middle;\n",
       "    }\n",
       "\n",
       "    .dataframe tbody tr th {\n",
       "        vertical-align: top;\n",
       "    }\n",
       "\n",
       "    .dataframe thead th {\n",
       "        text-align: right;\n",
       "    }\n",
       "</style>\n",
       "<table border=\"1\" class=\"dataframe\">\n",
       "  <thead>\n",
       "    <tr style=\"text-align: right;\">\n",
       "      <th></th>\n",
       "      <th>date week commencing</th>\n",
       "      <th>category</th>\n",
       "      <th>sub category</th>\n",
       "      <th>Dept £</th>\n",
       "      <th>Dept %</th>\n",
       "      <th>No. items sold</th>\n",
       "      <th>Average selling price £</th>\n",
       "      <th>No. of bays</th>\n",
       "      <th>% of space</th>\n",
       "      <th>Average sale per bay £</th>\n",
       "    </tr>\n",
       "  </thead>\n",
       "  <tbody>\n",
       "    <tr>\n",
       "      <th>0</th>\n",
       "      <td>20/07/2025</td>\n",
       "      <td>clothing</td>\n",
       "      <td>ladies tops</td>\n",
       "      <td>451.37</td>\n",
       "      <td>12.11</td>\n",
       "      <td>72</td>\n",
       "      <td>6.27</td>\n",
       "      <td>2.0</td>\n",
       "      <td>8.33</td>\n",
       "      <td>225.69</td>\n",
       "    </tr>\n",
       "    <tr>\n",
       "      <th>1</th>\n",
       "      <td>20/07/2025</td>\n",
       "      <td>clothing</td>\n",
       "      <td>ladies knitwear</td>\n",
       "      <td>54.75</td>\n",
       "      <td>1.47</td>\n",
       "      <td>9</td>\n",
       "      <td>6.08</td>\n",
       "      <td>0.5</td>\n",
       "      <td>2.08</td>\n",
       "      <td>109.50</td>\n",
       "    </tr>\n",
       "    <tr>\n",
       "      <th>2</th>\n",
       "      <td>20/07/2025</td>\n",
       "      <td>clothing</td>\n",
       "      <td>ladies skirts</td>\n",
       "      <td>85.81</td>\n",
       "      <td>2.30</td>\n",
       "      <td>12</td>\n",
       "      <td>7.15</td>\n",
       "      <td>0.5</td>\n",
       "      <td>2.08</td>\n",
       "      <td>171.62</td>\n",
       "    </tr>\n",
       "    <tr>\n",
       "      <th>3</th>\n",
       "      <td>20/07/2025</td>\n",
       "      <td>clothing</td>\n",
       "      <td>ladies trousers</td>\n",
       "      <td>186.06</td>\n",
       "      <td>4.99</td>\n",
       "      <td>29</td>\n",
       "      <td>6.42</td>\n",
       "      <td>1.0</td>\n",
       "      <td>4.17</td>\n",
       "      <td>186.06</td>\n",
       "    </tr>\n",
       "    <tr>\n",
       "      <th>4</th>\n",
       "      <td>20/07/2025</td>\n",
       "      <td>clothing</td>\n",
       "      <td>ladies dresses</td>\n",
       "      <td>140.25</td>\n",
       "      <td>3.76</td>\n",
       "      <td>15</td>\n",
       "      <td>9.35</td>\n",
       "      <td>3.0</td>\n",
       "      <td>12.50</td>\n",
       "      <td>46.75</td>\n",
       "    </tr>\n",
       "  </tbody>\n",
       "</table>\n",
       "</div>"
      ],
      "text/plain": [
       "  date week commencing  category     sub category  Dept £  Dept %  \\\n",
       "0           20/07/2025  clothing      ladies tops  451.37   12.11   \n",
       "1           20/07/2025  clothing  ladies knitwear   54.75    1.47   \n",
       "2           20/07/2025  clothing    ladies skirts   85.81    2.30   \n",
       "3           20/07/2025  clothing  ladies trousers  186.06    4.99   \n",
       "4           20/07/2025  clothing   ladies dresses  140.25    3.76   \n",
       "\n",
       "   No. items sold  Average selling price £  No. of bays  % of space  \\\n",
       "0              72                     6.27          2.0        8.33   \n",
       "1               9                     6.08          0.5        2.08   \n",
       "2              12                     7.15          0.5        2.08   \n",
       "3              29                     6.42          1.0        4.17   \n",
       "4              15                     9.35          3.0       12.50   \n",
       "\n",
       "   Average sale per bay £  \n",
       "0                  225.69  \n",
       "1                  109.50  \n",
       "2                  171.62  \n",
       "3                  186.06  \n",
       "4                   46.75  "
      ]
     },
     "execution_count": 31,
     "metadata": {},
     "output_type": "execute_result"
    }
   ],
   "source": [
    "df_sm.head()"
   ]
  }
 ],
 "metadata": {
  "kernelspec": {
   "display_name": "Python 3 (ipykernel)",
   "language": "python",
   "name": "python3"
  },
  "language_info": {
   "codemirror_mode": {
    "name": "ipython",
    "version": 3
   },
   "file_extension": ".py",
   "mimetype": "text/x-python",
   "name": "python",
   "nbconvert_exporter": "python",
   "pygments_lexer": "ipython3",
   "version": "3.12.7"
  }
 },
 "nbformat": 4,
 "nbformat_minor": 5
}
