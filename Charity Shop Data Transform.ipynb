{
 "cells": [
  {
   "cell_type": "markdown",
   "id": "ec8f9547-b95e-412c-b913-c6d5bcea50fc",
   "metadata": {},
   "source": [
    "# Data Cleaning and Transformation"
   ]
  },
  {
   "cell_type": "code",
   "execution_count": 13,
   "id": "2b6cbe07-d262-4f32-a0e6-65ab9b5a9c55",
   "metadata": {},
   "outputs": [],
   "source": [
    "import pandas as pd\n",
    "import numpy as np\n",
    "df_sm = pd.read_excel(\"charity shop data initial.xlsx\", sheet_name = \"Space Management\", index_col = None)"
   ]
  },
  {
   "cell_type": "markdown",
   "id": "4f1813e7-e5d0-4db0-8ea3-4aed2955f8ba",
   "metadata": {},
   "source": [
    "Due to a shop refurbish in January 2024, the data for the weeks 14th January to 28th January is all zero, therefore we remove these 3 weeks of data as these do not show a true representation for the sales."
   ]
  },
  {
   "cell_type": "code",
   "execution_count": 15,
   "id": "3874797a-5495-4df9-ae2c-27f77cfbc581",
   "metadata": {},
   "outputs": [
    {
     "data": {
      "text/plain": [
       "(5146, 10)"
      ]
     },
     "execution_count": 15,
     "metadata": {},
     "output_type": "execute_result"
    }
   ],
   "source": [
    "df = df_sm.loc[(df_sm['date week commencing'] != '28/01/2024') & (df_sm['date week commencing'] != '21/01/2024') & (df_sm['date week commencing'] != '14/01/2024')]\n",
    "df.shape"
   ]
  },
  {
   "cell_type": "markdown",
   "id": "d9fbe9a7-c0ba-47c9-aa03-2f33f2d5ae1e",
   "metadata": {},
   "source": [
    "The sub categories electrical, furniture and non clothing promotion are not sold in the shop so when these have values other than 0 this is a human error at the till. As discussed with the store manager we decided to move all electrical sales to the jewellery category, furniture to books and non clothing promotion to kids non clothing.\n",
    "This means changing all the column values for these sub categories too."
   ]
  },
  {
   "cell_type": "code",
   "execution_count": 25,
   "id": "2810b1a9-dd0d-4532-bc5e-8ce2e13e559b",
   "metadata": {},
   "outputs": [],
   "source": [
    "#move revenue for electrical, furniture and non clothing promotion to jewellery, books and kids non clothing due to human error at till\n",
    "#here we move the dept £, and number of items sold to the correct category, then update the number of bays for the totals and make the required sub categories 0\n",
    "for index, row in df.iterrows():\n",
    "    date = row['date week commencing']\n",
    "    if row['sub category'] == 'jewellery':\n",
    "        electrical_dept = df[(df['sub category'] == 'electrical') & (df['date week commencing'] == date)]['Dept £'].values\n",
    "        electrical_num = df[(df['sub category'] == 'electrical') & (df['date week commencing'] == date)]['No. items sold'].values\n",
    "        df.loc[index, 'Dept £'] += electrical_dept\n",
    "        df.loc[index, 'No. items sold'] += electrical_num\n",
    "    if row['sub category'] == 'books':\n",
    "        furniture_dept = df[(df['sub category'] == 'furniture') & (df['date week commencing'] == date)]['Dept £'].values\n",
    "        furniture_num = df[(df['sub category'] == 'furniture') & (df['date week commencing'] == date)]['No. items sold'].values\n",
    "        df.loc[index, 'Dept £'] += furniture_dept\n",
    "        df.loc[index, 'No. items sold'] += furniture_num\n",
    "    if row['sub category'] == 'kids non clothing':\n",
    "        nc_prom_dept = df[(df['sub category'] == 'non clothing promotion') & (df['date week commencing'] == date)]['Dept £'].values\n",
    "        nc_prom_num = df[(df['sub category'] == 'non clothing promotion') & (df['date week commencing'] == date)]['No. items sold'].values\n",
    "        df.loc[index, 'Dept £'] += nc_prom_dept\n",
    "        df.loc[index, 'No. items sold'] += nc_prom_num\n",
    "    if row['sub category'] == 'electrical':\n",
    "        electrical_bays = row['No. of bays']\n",
    "        df.loc[index, 'Dept £'] = 0\n",
    "        df.loc[index, 'No. items sold'] = 0\n",
    "        df.loc[index, 'No. of bays'] = 0\n",
    "    if row['sub category'] == 'furniture':\n",
    "        furniture_bays = row['No. of bays']\n",
    "        df.loc[index, 'Dept £'] = 0\n",
    "        df.loc[index, 'No. items sold'] = 0\n",
    "        df.loc[index, 'No. of bays'] = 0\n",
    "    if row['sub category'] == 'non clothing promotion':\n",
    "        nc_prom_bays = row['No. of bays']\n",
    "        df.loc[index, 'Dept £'] = 0\n",
    "        df.loc[index, 'No. items sold'] = 0\n",
    "        df.loc[index, 'No. of bays'] = 0\n",
    "    if row['sub category'] == 'total for non clothing':\n",
    "        df.loc[index, 'No. of bays'] = df.loc[index, 'No. of bays'] - electrical_bays - furniture_bays - nc_prom_bays\n",
    "    if row['sub category'] == 'donated total':\n",
    "        df.loc[index, 'No. of bays'] = df.loc[index, 'No. of bays'] - electrical_bays - furniture_bays - nc_prom_bays\n",
    "    if row['sub category'] == 'donated and big total':\n",
    "        df.loc[index, 'No. of bays'] = df.loc[index, 'No. of bays'] - electrical_bays - furniture_bays - nc_prom_bays"
   ]
  },
  {
   "cell_type": "code",
   "execution_count": 27,
   "id": "3e15670f-c620-4a2b-afc4-b733a0e5f66a",
   "metadata": {},
   "outputs": [],
   "source": [
    "#drop electrical, furniture and non clothing promotion rows since these are not sold in the shop, after the corrections have been made first\n",
    "df = df[(df['sub category'] != 'electrical') & (df['sub category'] != 'furniture') & (df['sub category'] != 'non clothing promotion')]"
   ]
  },
  {
   "cell_type": "code",
   "execution_count": 29,
   "id": "6fdcc6cf-6a4e-4215-bfab-a4270c087296",
   "metadata": {},
   "outputs": [
    {
     "data": {
      "text/plain": [
       "(4633, 10)"
      ]
     },
     "execution_count": 29,
     "metadata": {},
     "output_type": "execute_result"
    }
   ],
   "source": [
    "df.shape"
   ]
  },
  {
   "cell_type": "code",
   "execution_count": 35,
   "id": "9cd7e41f-1fbb-4e77-b762-f76de80cfe31",
   "metadata": {},
   "outputs": [],
   "source": [
    "#update new percentages in the dataset\n",
    "for index, row, in df.iterrows():\n",
    "    date = row['date week commencing']\n",
    "    if row['sub category'] != 'donated and big total':\n",
    "        df.loc[index, 'Dept %'] = np.round(100*(df.loc[index, 'Dept £'] / df[(df['sub category'] == 'donated and big total') & (df['date week commencing'] == date)]['Dept £'].values),2)\n",
    "        df.loc[index, '% of space'] = np.round(100*(df.loc[index, 'No. of bays'] / df[(df['sub category'] == 'donated and big total') & (df['date week commencing'] == date)]['No. of bays'].values), 2)"
   ]
  },
  {
   "cell_type": "code",
   "execution_count": 37,
   "id": "2a74427b-ff03-46a6-9138-f25ec60d2697",
   "metadata": {},
   "outputs": [],
   "source": [
    "#export the new updated dataframe to excel\n",
    "df.to_excel(\"charity shop data transformed.xlsx\", index = False, sheet_name = 'Space Management')"
   ]
  },
  {
   "cell_type": "markdown",
   "id": "720e4043-0227-4160-ab5d-fd1f4d9a4827",
   "metadata": {},
   "source": [
    "Now that we have the new dataframe in excel we still have some changes to make. Firstly, we finish correcting all the columns by calculating the new average selling price and average sale per bay values, since these will have changed when moving the values from electrical, furniture and non clothing promotion and are easy to correct in excel. After this, we also ensure all the column data types are correct and adjust if needed, and change the sub category column to proper sentence case to make it look more readable in graphs. Finally, we also pull out the day, month and year for each date into separate columns and create two new columns called modified month and modified year. These new columns are to account for dates where maybe there are only 1 or 2 days in that week which are in a particular month or year. For example if a week begins on 31st december 2024, we would give this a modified month of january and a modified year of 2025, since 6 of the 7 days fall into January 2024. The formulae used to work out these new column values can be seen in the sheet named 'Space Management - Formulae' in the Charity Shop excel workbook."
   ]
  }
 ],
 "metadata": {
  "kernelspec": {
   "display_name": "Python 3 (ipykernel)",
   "language": "python",
   "name": "python3"
  },
  "language_info": {
   "codemirror_mode": {
    "name": "ipython",
    "version": 3
   },
   "file_extension": ".py",
   "mimetype": "text/x-python",
   "name": "python",
   "nbconvert_exporter": "python",
   "pygments_lexer": "ipython3",
   "version": "3.12.7"
  }
 },
 "nbformat": 4,
 "nbformat_minor": 5
}
